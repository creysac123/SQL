{
 "cells": [
  {
   "cell_type": "markdown",
   "id": "99032fe0-e5a3-4bba-ba05-3de7d114f698",
   "metadata": {},
   "source": [
    "### Q-1. Write an SQL query to print details of workers excluding first names, “Vipul” and “Satish” from Worker table."
   ]
  },
  {
   "cell_type": "markdown",
   "id": "da836259-206c-4e89-aa04-c5838519be3d",
   "metadata": {},
   "source": [
    "SELECT * FROM Worker WHERE FIRST_NAME NOT IN ('Vipul','Satish');"
   ]
  },
  {
   "cell_type": "markdown",
   "id": "bee7efde-e111-43c3-ae2b-67d5f285dca3",
   "metadata": {},
   "source": [
    "### Q-2. Write an SQL query to print details of the Workers whose FIRST_NAME ends with ‘h’ and contains six alphabets."
   ]
  },
  {
   "cell_type": "markdown",
   "id": "ca6a07ec-aa2f-43eb-8c54-286783ea3ef5",
   "metadata": {},
   "source": [
    "SELECT * FROM Worker WHERE FIRST_NAME LIKE '_____h';\n"
   ]
  },
  {
   "cell_type": "markdown",
   "id": "3db2ddff-ed5c-4181-9f34-2ce8e0c85be3",
   "metadata": {},
   "source": [
    "### Q-3. Write a query to validate Email of Employee."
   ]
  },
  {
   "cell_type": "markdown",
   "id": "7aed6624-0ab6-4752-a2dd-a40229714196",
   "metadata": {},
   "source": [
    "SELECT email, 'Valid' AS validation_result FROM worker WHERE email REGEXP '^[a-zA-Z0-9._%+-]+@[a-zA-Z0-9.-]+\\.[a-zA-Z]{2,}$';\n"
   ]
  },
  {
   "cell_type": "code",
   "execution_count": null,
   "id": "6079010a-ca04-4a45-9826-528f59b4e058",
   "metadata": {},
   "outputs": [],
   "source": []
  }
 ],
 "metadata": {
  "kernelspec": {
   "display_name": "Python 3 (ipykernel)",
   "language": "python",
   "name": "python3"
  },
  "language_info": {
   "codemirror_mode": {
    "name": "ipython",
    "version": 3
   },
   "file_extension": ".py",
   "mimetype": "text/x-python",
   "name": "python",
   "nbconvert_exporter": "python",
   "pygments_lexer": "ipython3",
   "version": "3.10.6"
  }
 },
 "nbformat": 4,
 "nbformat_minor": 5
}
