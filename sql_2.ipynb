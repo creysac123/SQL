{
 "cells": [
  {
   "cell_type": "markdown",
   "id": "41b82652-85bb-40f9-8191-8480c79a3f36",
   "metadata": {},
   "source": [
    "### Q-1. Write an SQL query to print the first three characters of  FIRST_NAME from Worker table.\n",
    "\n",
    "select substring(FIRST_NAME,1,3) from Worker"
   ]
  },
  {
   "cell_type": "markdown",
   "id": "c81af4da-e1fe-4f7f-9685-ad808f86b5a1",
   "metadata": {},
   "source": [
    "### Q-2. Write an SQL query to find the position of the alphabet (‘a’) in the first name column ‘Amitabh’ from Worker table.\n",
    "\n",
    "select position('a' in FIRST_NAME) from Worker where FIRST_NAME = 'Amitabh'"
   ]
  },
  {
   "cell_type": "markdown",
   "id": "92bc1852-81e5-49da-803f-27c8616dfbd5",
   "metadata": {},
   "source": [
    "### Q-3. Write an SQL query to print the name of employees having the highest salary in each department.\n",
    "\n",
    "select concat(FIRST_NAME,' ',LAST_NAME) as NAME,DEPARTMENT,SALARY from Worker where SALARY in (select max(SALARY) from Worker group by DEPARTMENT)"
   ]
  },
  {
   "cell_type": "code",
   "execution_count": null,
   "id": "1927efe7-af6e-4639-9a3a-7d7235a77584",
   "metadata": {},
   "outputs": [],
   "source": []
  }
 ],
 "metadata": {
  "kernelspec": {
   "display_name": "Python 3 (ipykernel)",
   "language": "python",
   "name": "python3"
  },
  "language_info": {
   "codemirror_mode": {
    "name": "ipython",
    "version": 3
   },
   "file_extension": ".py",
   "mimetype": "text/x-python",
   "name": "python",
   "nbconvert_exporter": "python",
   "pygments_lexer": "ipython3",
   "version": "3.10.6"
  }
 },
 "nbformat": 4,
 "nbformat_minor": 5
}
