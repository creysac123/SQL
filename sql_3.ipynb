{
 "cells": [
  {
   "cell_type": "markdown",
   "id": "f7f99f6d-53c3-4156-9f8c-9cb61d95d165",
   "metadata": {},
   "source": [
    "### Q-1. Write an SQL query to print the FIRST_NAME from Worker table after removing white spaces from the right side."
   ]
  },
  {
   "cell_type": "markdown",
   "id": "226c19e6-0d3d-45f1-8869-c215a1387e26",
   "metadata": {},
   "source": [
    "SELECT RTRIM(FIRST_NAME) AS FIRST_NAME FROM Worker;\n"
   ]
  },
  {
   "cell_type": "markdown",
   "id": "94cabbd3-faf0-4a45-8234-c66142683528",
   "metadata": {},
   "source": [
    "### Q-2. Write an SQL query that fetches the unique values of DEPARTMENT from Worker table and prints its length."
   ]
  },
  {
   "cell_type": "markdown",
   "id": "dafb93c0-c0a4-48af-8424-8760aafaaf02",
   "metadata": {},
   "source": [
    "select distinct(DEPARTMENT) from WORKER;"
   ]
  },
  {
   "cell_type": "markdown",
   "id": "1b29cddf-7a6e-42ce-84d0-a6fff7c82dd9",
   "metadata": {},
   "source": [
    "### Q-3. Write an SQL query to fetch nth max salaries from a table."
   ]
  },
  {
   "cell_type": "markdown",
   "id": "fb356c61-4b9d-4843-bca5-fb7cad643e72",
   "metadata": {},
   "source": [
    "SELECT DISTINCT salary FROM Employee ORDER BY salary DESC LIMIT 1 OFFSET (N - 1);\n"
   ]
  },
  {
   "cell_type": "code",
   "execution_count": null,
   "id": "41d4fcba-36fd-4a6b-a038-5e103855c7b7",
   "metadata": {},
   "outputs": [],
   "source": []
  }
 ],
 "metadata": {
  "kernelspec": {
   "display_name": "Python 3 (ipykernel)",
   "language": "python",
   "name": "python3"
  },
  "language_info": {
   "codemirror_mode": {
    "name": "ipython",
    "version": 3
   },
   "file_extension": ".py",
   "mimetype": "text/x-python",
   "name": "python",
   "nbconvert_exporter": "python",
   "pygments_lexer": "ipython3",
   "version": "3.10.6"
  }
 },
 "nbformat": 4,
 "nbformat_minor": 5
}
