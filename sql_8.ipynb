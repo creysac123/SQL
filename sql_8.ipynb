{
 "cells": [
  {
   "cell_type": "markdown",
   "id": "3d381cd2-9826-43e3-90ee-61ba5bb41866",
   "metadata": {},
   "source": [
    "### Q-15. Write an SQL query to fetch intersecting records of two tables."
   ]
  },
  {
   "cell_type": "code",
   "execution_count": null,
   "id": "b6b78fbb-b415-464a-8051-33610f623bba",
   "metadata": {},
   "outputs": [],
   "source": [
    "SELECT column1, column2, column3\n",
    "FROM table1\n",
    "INTERSECT\n",
    "SELECT column1, column2, column3\n",
    "FROM table2;\n"
   ]
  },
  {
   "cell_type": "code",
   "execution_count": null,
   "id": "a5fc5526-f5e0-4124-9d6a-93904905c6a0",
   "metadata": {},
   "outputs": [],
   "source": [
    "#method 2\n",
    "\n",
    "SELECT t1.column1, t1.column2, t1.column3\n",
    "FROM table1 t1\n",
    "INNER JOIN table2 t2 ON t1.column1 = t2.column1 ;\n"
   ]
  },
  {
   "cell_type": "markdown",
   "id": "d5a03657-7c3b-4de3-a5ef-c998f1be559a",
   "metadata": {},
   "source": [
    "### Q-16. Write an SQL query to show records from one table that another table does not have."
   ]
  },
  {
   "cell_type": "code",
   "execution_count": null,
   "id": "39e186c0-6910-4751-b54f-44c62b8fdb2b",
   "metadata": {},
   "outputs": [],
   "source": [
    "SELECT t1.column1, t1.column2, t1.column3\n",
    "FROM table1 t1\n",
    "LEFT JOIN table2 t2 ON t1.column1 = t2.column1;"
   ]
  }
 ],
 "metadata": {
  "kernelspec": {
   "display_name": "Python 3 (ipykernel)",
   "language": "python",
   "name": "python3"
  },
  "language_info": {
   "codemirror_mode": {
    "name": "ipython",
    "version": 3
   },
   "file_extension": ".py",
   "mimetype": "text/x-python",
   "name": "python",
   "nbconvert_exporter": "python",
   "pygments_lexer": "ipython3",
   "version": "3.10.6"
  }
 },
 "nbformat": 4,
 "nbformat_minor": 5
}
