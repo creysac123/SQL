{
 "cells": [
  {
   "cell_type": "markdown",
   "id": "ef53d3d6-356a-4e83-b9b1-1f5cf3f8acbb",
   "metadata": {},
   "source": [
    "### Q-1. Write an SQL query to print details of the Workers who have joined in Feb’2014."
   ]
  },
  {
   "cell_type": "markdown",
   "id": "3cc0a120-9b96-4eed-bcb6-1ad6b9188992",
   "metadata": {},
   "source": [
    "SELECT * FROM workers WHERE YEAR(join_date) = 2014 AND MONTH(join_date) = 2;\n"
   ]
  },
  {
   "cell_type": "markdown",
   "id": "3d833abb-3e19-4ab4-9867-427438eee00a",
   "metadata": {},
   "source": [
    "### Q-2. Write an SQL query to fetch duplicate records having matching data in some fields of a table."
   ]
  },
  {
   "cell_type": "markdown",
   "id": "44003428-b78e-4545-a726-917330e753db",
   "metadata": {},
   "source": [
    "SELECT field1, field2, field3, COUNT(*) AS duplicate_count FROM your_table GROUP BY field1, field2, field3 HAVING COUNT(*) > 1;\n"
   ]
  },
  {
   "cell_type": "markdown",
   "id": "a2824b80-48e7-49fc-bc2d-f9a1bbf87214",
   "metadata": {},
   "source": [
    "### Q-3. How to remove duplicate rows from Employees table."
   ]
  },
  {
   "cell_type": "markdown",
   "id": "6478d169-d0d2-4dee-946e-878474122123",
   "metadata": {},
   "source": [
    "CREATE TABLE my_table (\n",
    "\n",
    "  id INT AUTO_INCREMENT PRIMARY KEY,\n",
    "  \n",
    "  column1 VARCHAR(50),\n",
    "  \n",
    "  column2 VARCHAR(50),\n",
    "  \n",
    "  column3 VARCHAR(50)\n",
    ");\n",
    "\n",
    "\n",
    "INSERT INTO my_table (column1, column2, column3)\n",
    "\n",
    "VALUES\n",
    "\n",
    "  ('Value 1', 'Value 2', 'Value 3'),\n",
    "  \n",
    "  ('Value 1', 'Value 2', 'Value 3'),\n",
    "  \n",
    "  ('Value 4', 'Value 5', 'Value 6'),\n",
    "  \n",
    "  ('Value 7', 'Value 8', 'Value 9'),\n",
    "  \n",
    "  ('Value 7', 'Value 8', 'Value 9');\n",
    "\n",
    "    \n",
    "DELETE FROM my_table\n",
    "\n",
    "WHERE id NOT IN (\n",
    "\n",
    "  SELECT MIN(id)\n",
    "  \n",
    "  FROM my_table\n",
    "  \n",
    "  GROUP BY column1, column2, column3\n",
    ");\n"
   ]
  },
  {
   "cell_type": "code",
   "execution_count": null,
   "id": "5fc3d93a-e470-42ca-8d3b-56e975d68602",
   "metadata": {},
   "outputs": [],
   "source": []
  }
 ],
 "metadata": {
  "kernelspec": {
   "display_name": "Python 3 (ipykernel)",
   "language": "python",
   "name": "python3"
  },
  "language_info": {
   "codemirror_mode": {
    "name": "ipython",
    "version": 3
   },
   "file_extension": ".py",
   "mimetype": "text/x-python",
   "name": "python",
   "nbconvert_exporter": "python",
   "pygments_lexer": "ipython3",
   "version": "3.10.6"
  }
 },
 "nbformat": 4,
 "nbformat_minor": 5
}
