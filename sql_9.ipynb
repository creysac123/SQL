{
 "cells": [
  {
   "cell_type": "markdown",
   "id": "76cac762-7683-464e-bb58-f7c3c45d5467",
   "metadata": {},
   "source": [
    "### Q-17. Write an SQL query to show the top n (say 10) records of a table."
   ]
  },
  {
   "cell_type": "code",
   "execution_count": null,
   "id": "b5a0b06a-7347-43ef-9133-866071efeca1",
   "metadata": {},
   "outputs": [],
   "source": [
    "SELECT *\n",
    "FROM your_table\n",
    "LIMIT 10;\n"
   ]
  },
  {
   "cell_type": "markdown",
   "id": "c8fd25e2-672b-4faf-8519-d88a982f5f9a",
   "metadata": {},
   "source": [
    "### Q-18. Write an SQL query to determine the nth (say n=5) highest salary from a table."
   ]
  },
  {
   "cell_type": "code",
   "execution_count": null,
   "id": "5e50cfdd-4547-4596-b213-e7532a62ee26",
   "metadata": {},
   "outputs": [],
   "source": [
    "SELECT salary\n",
    "FROM your_table\n",
    "ORDER BY salary DESC\n",
    "LIMIT 1 OFFSET 4;\n"
   ]
  }
 ],
 "metadata": {
  "kernelspec": {
   "display_name": "Python 3 (ipykernel)",
   "language": "python",
   "name": "python3"
  },
  "language_info": {
   "codemirror_mode": {
    "name": "ipython",
    "version": 3
   },
   "file_extension": ".py",
   "mimetype": "text/x-python",
   "name": "python",
   "nbconvert_exporter": "python",
   "pygments_lexer": "ipython3",
   "version": "3.10.6"
  }
 },
 "nbformat": 4,
 "nbformat_minor": 5
}
