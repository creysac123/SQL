{
 "cells": [
  {
   "cell_type": "markdown",
   "id": "83919910-55cd-4751-bd04-e01bf9201342",
   "metadata": {},
   "source": [
    "### Q-13. Write an SQL query to show only odd rows from a table."
   ]
  },
  {
   "cell_type": "markdown",
   "id": "acb7729e-9137-496d-8d03-aece4e42eaf8",
   "metadata": {},
   "source": [
    "SELECT * FROM Worker Where MOD(worker_id,2) = 1"
   ]
  },
  {
   "cell_type": "markdown",
   "id": "16a6602e-3d22-4bda-8027-349f2a8bda4e",
   "metadata": {},
   "source": [
    "### Q-14. Write an SQL query to clone a new table from another table."
   ]
  },
  {
   "cell_type": "markdown",
   "id": "93a8a7d2-6614-4eeb-812e-d4d4a702a8d5",
   "metadata": {},
   "source": [
    "\n",
    "CREATE TABLE CloneWorker (\n",
    "\n",
    "    WORKER_ID INT NOT NULL AUTO INCREMENT PRIMARY KEY,\n",
    "    \n",
    "    FIRST_NAME VARCHAR(50),\n",
    "    \n",
    "    LAST_NAME VARCHAR(50),\n",
    "    \n",
    "    SALARY INT,\n",
    "    \n",
    "    DEPARTMENT VARCHAR(50),\n",
    "    \n",
    "    JOINING_DATE DATETIME\n",
    ");\n",
    "\n",
    "\n",
    "INSERT INTO CloneWorker SELECT * FROM Worker;"
   ]
  },
  {
   "cell_type": "code",
   "execution_count": null,
   "id": "df840392-017c-4507-80e0-466c98c12796",
   "metadata": {},
   "outputs": [],
   "source": []
  }
 ],
 "metadata": {
  "kernelspec": {
   "display_name": "Python 3 (ipykernel)",
   "language": "python",
   "name": "python3"
  },
  "language_info": {
   "codemirror_mode": {
    "name": "ipython",
    "version": 3
   },
   "file_extension": ".py",
   "mimetype": "text/x-python",
   "name": "python",
   "nbconvert_exporter": "python",
   "pygments_lexer": "ipython3",
   "version": "3.10.6"
  }
 },
 "nbformat": 4,
 "nbformat_minor": 5
}
