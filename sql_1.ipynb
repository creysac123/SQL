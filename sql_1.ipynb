{
 "cells": [
  {
   "cell_type": "markdown",
   "id": "51b745d7-c8dd-409a-a3c7-ef3cb514c916",
   "metadata": {},
   "source": [
    "### Q-1. Write an SQL query to fetch “FIRST_NAME” from Worker table using the alias name as<WORKER_NAME>.\n",
    "SELECT FIRST_NAME AS WORKER_NAME FROM Worker;"
   ]
  },
  {
   "cell_type": "markdown",
   "id": "86cb849f-aa58-4aa6-92cb-608745facfea",
   "metadata": {},
   "source": [
    "### Q-2. Write an SQL query to fetch unique values of DEPARTMENT from Worker table.\n",
    "SELECT DISTINCT DEPARTMENT FROM Worker;\n"
   ]
  },
  {
   "cell_type": "markdown",
   "id": "8a1847ab-c67f-4972-864e-84d373f7d494",
   "metadata": {},
   "source": [
    "### Q-3. Write an SQL query to show the last 5 record from a table.\n",
    "SELECT * from Worker ORDER by id DESC LIMIT 5;"
   ]
  },
  {
   "cell_type": "code",
   "execution_count": null,
   "id": "566e1626-6cc7-4560-8074-2b44f7d8b595",
   "metadata": {},
   "outputs": [],
   "source": []
  }
 ],
 "metadata": {
  "kernelspec": {
   "display_name": "Python 3 (ipykernel)",
   "language": "python",
   "name": "python3"
  },
  "language_info": {
   "codemirror_mode": {
    "name": "ipython",
    "version": 3
   },
   "file_extension": ".py",
   "mimetype": "text/x-python",
   "name": "python",
   "nbconvert_exporter": "python",
   "pygments_lexer": "ipython3",
   "version": "3.10.6"
  }
 },
 "nbformat": 4,
 "nbformat_minor": 5
}
