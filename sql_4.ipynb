{
 "cells": [
  {
   "cell_type": "markdown",
   "id": "16681ac5-2305-4936-8a07-b8c972681817",
   "metadata": {},
   "source": [
    "### Q-1. Write an SQL query to print the FIRST_NAME from Worker table after replacing ‘a’ with ‘A’."
   ]
  },
  {
   "cell_type": "markdown",
   "id": "356d406b-464e-49e8-be19-fbe3644bb2f6",
   "metadata": {},
   "source": [
    "select replace('FIRSTNAME', 'a', 'A');"
   ]
  },
  {
   "cell_type": "markdown",
   "id": "49d66981-83d3-450d-8b90-5a818c65828d",
   "metadata": {},
   "source": [
    "### Q-2. Write an SQL query to print all Worker details from the Worker table order by FIRST_NAME Ascending and DEPARTMENT Descending."
   ]
  },
  {
   "cell_type": "markdown",
   "id": "e75db215-ca78-438f-8c41-ba2e7fa927c8",
   "metadata": {},
   "source": [
    "select * from Worker order by FIRST_NAME ASC, LAST_NAME DESC;"
   ]
  },
  {
   "cell_type": "markdown",
   "id": "fe7244a5-75b1-4eee-bff9-f90ea71c00ed",
   "metadata": {},
   "source": [
    "### Q-3. Write an SQL query to fetch the names of workers who earn the highest salary."
   ]
  },
  {
   "cell_type": "markdown",
   "id": "799c1d4e-30bc-4b9d-b808-15439caffa88",
   "metadata": {},
   "source": [
    "SELECT name FROM Worker ORDER BY salary DESC LIMIT 1;\n"
   ]
  },
  {
   "cell_type": "code",
   "execution_count": null,
   "id": "d8c97609-31f2-4107-9bb9-90db6bcb7ef4",
   "metadata": {},
   "outputs": [],
   "source": []
  }
 ],
 "metadata": {
  "kernelspec": {
   "display_name": "Python 3 (ipykernel)",
   "language": "python",
   "name": "python3"
  },
  "language_info": {
   "codemirror_mode": {
    "name": "ipython",
    "version": 3
   },
   "file_extension": ".py",
   "mimetype": "text/x-python",
   "name": "python",
   "nbconvert_exporter": "python",
   "pygments_lexer": "ipython3",
   "version": "3.10.6"
  }
 },
 "nbformat": 4,
 "nbformat_minor": 5
}
