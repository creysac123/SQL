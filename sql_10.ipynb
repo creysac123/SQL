{
 "cells": [
  {
   "cell_type": "markdown",
   "id": "d9e73fb0-1268-4559-9938-180932b85097",
   "metadata": {},
   "source": [
    "### Q-19. Write an SQL query to determine the 5th highest salary without using TOP or limit method."
   ]
  },
  {
   "cell_type": "code",
   "execution_count": null,
   "id": "0f6d83ce-5bd8-4520-9c4a-92fd550b43d2",
   "metadata": {},
   "outputs": [],
   "source": [
    "SELECT salary\n",
    "FROM (\n",
    "  SELECT salary, ROW_NUMBER() OVER (ORDER BY salary DESC) AS row_num\n",
    "  FROM your_table\n",
    ") AS subquery\n",
    "WHERE row_num = 5;\n"
   ]
  },
  {
   "cell_type": "markdown",
   "id": "b81ae9b3-9891-429a-90bf-0ee1d6071bbc",
   "metadata": {},
   "source": [
    "### Q-20. Write an SQL query to fetch the list of employees with the same salary."
   ]
  },
  {
   "cell_type": "code",
   "execution_count": null,
   "id": "3dfe9929-ce91-4ec2-85ad-28716a1cb311",
   "metadata": {},
   "outputs": [],
   "source": [
    "SELECT t1.employee_name, t1.salary\n",
    "FROM your_table t1\n",
    "JOIN your_table t2 ON t1.salary = t2.salary\n",
    "WHERE t1.employee_name <> t2.employee_name\n",
    "ORDER BY t1.salary;\n"
   ]
  }
 ],
 "metadata": {
  "kernelspec": {
   "display_name": "Python 3 (ipykernel)",
   "language": "python",
   "name": "python3"
  },
  "language_info": {
   "codemirror_mode": {
    "name": "ipython",
    "version": 3
   },
   "file_extension": ".py",
   "mimetype": "text/x-python",
   "name": "python",
   "nbconvert_exporter": "python",
   "pygments_lexer": "ipython3",
   "version": "3.10.6"
  }
 },
 "nbformat": 4,
 "nbformat_minor": 5
}
